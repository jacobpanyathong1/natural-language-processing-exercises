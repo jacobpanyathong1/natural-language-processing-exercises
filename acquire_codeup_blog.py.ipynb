{
 "cells": [
  {
   "cell_type": "code",
   "execution_count": 169,
   "id": "ce4696d2-7afb-4b74-9b46-bd3c62bc6d81",
   "metadata": {},
   "outputs": [],
   "source": [
    "import re\n",
    "import pandas as pd\n",
    "from requests import get\n",
    "from bs4 import BeautifulSoup\n",
    "from os import path\n",
    "import pprint\n",
    "import numpy as np\n",
    "from urllib.parse import urlsplit"
   ]
  },
  {
   "cell_type": "code",
   "execution_count": 4,
   "id": "d8b34845-1063-4e09-9435-db1320e2d5c2",
   "metadata": {},
   "outputs": [],
   "source": [
    "url = 'https://codeup.com/data-science/math-in-data-science/'\n",
    "headers = {'User-Agent': 'Codeup Data Science'} # Some websites don't accept the pyhon-requests default user-agent\n",
    "response = get(url, headers=headers)\n"
   ]
  },
  {
   "cell_type": "code",
   "execution_count": 17,
   "id": "8565ad2d-cb46-4d94-a1f7-1fb1dc6759c4",
   "metadata": {},
   "outputs": [
    {
     "data": {
      "text/plain": [
       "<Response [200]>"
      ]
     },
     "execution_count": 17,
     "metadata": {},
     "output_type": "execute_result"
    }
   ],
   "source": [
    "response"
   ]
  },
  {
   "cell_type": "code",
   "execution_count": 16,
   "id": "4f1eead9-02a1-4363-8711-a4188172e441",
   "metadata": {},
   "outputs": [
    {
     "name": "stdout",
     "output_type": "stream",
     "text": [
      "<!DOCTYPE html>\n",
      "<html lang=\"en-US\">\n",
      "<head>\n",
      "\t<meta charset=\"UTF-8\" />\n",
      "<meta http-equiv=\"X-UA-Compatible\" content=\"IE=edge\">\n",
      "\t<link rel=\"pingback\" href=\"https://codeup.com/xmlrpc.php\" />\n",
      "\n",
      "\t<script type=\"text/javascript\">\n",
      "\t\tdocument.documentElement.className = 'js';\n",
      "\t</script>\n",
      "\t\n",
      "\t<link rel=\"preconnect\" href=\"https://fonts.gstatic.com\" crossorigin /><script id=\"diviarea-loader\">window.DiviPopupData=wi\n"
     ]
    }
   ],
   "source": [
    "print(response.text[:400])"
   ]
  },
  {
   "cell_type": "code",
   "execution_count": 9,
   "id": "8dd35e4d-c4e5-427f-aba3-e68bba94e616",
   "metadata": {},
   "outputs": [],
   "source": [
    "# Make a soup variable holding the response content\n",
    "soup = BeautifulSoup(response.content, 'html.parser')\n"
   ]
  },
  {
   "cell_type": "code",
   "execution_count": 19,
   "id": "4e2137f5-b96b-4bed-a959-8609dca59bda",
   "metadata": {},
   "outputs": [
    {
     "data": {
      "text/plain": [
       "'\\n\\n\\n\\n\\n\\nWhat are the Math and Stats Principles You Need for Data Science?\\nOct 21, 2020 | Data Science\\n\\n\\nComing into our Data Science program, you will need to know some math and stats. However, many of our applicants actually learn in the application process – you don’t need to be an expert before applying! Data science is a very accessible field to anyone dedicated to learning new skills, and we can work with any applicant to help them learn what they need to know. But what “skills” do we mean, exactly? Just what exactly are the data science math and stats principles you need to know?\\nWhat are the main math principles you need to know to get into Codeup’s Data Science program?\\n\\n\\nAlgebra\\nDo you know PEMDAS and can you solve for x? You will need to be or become comfortable with the following:\\xa0\\n\\nVariables (x, y, n, etc.)\\nFormulas, functions, and variable manipulations (e.g. x^2 = x + 6, solve for x).\\nOrder of evaluation: PEMDAS: parentheses, exponents, then multiplication, division, addition, and subtraction\\nCommutativity where a + b = b + a\\nAssociativity where a + (b + c) = (a + b) + c\\nAdding and subtracting matrices\\nA conceptual understanding of exponential growth/decay- things can increase at an increasing rate\\n\\nDescriptive Statistics\\nKnow what a min, max, mode, median, and average are. Have a conceptual understanding that stats/probability is about trying to quantify uncertainty.\\nData Visualization\\nKnow what a scatterplot is and how to read a barplot.\\nHow to Learn and Expand on These Concepts\\nThere are a number of great resources out there to teach you these and similar concepts. Khan Academy is a great starting place for data science math! If you want to know what exactly we assign our applicants, you’ll just have to apply!\\n\\xa0\\nWhat about once you’re in Codeup?\\n\\n\\nWhat You Won’t Do\\nDo we do any mathematical proofs for concepts or perform derivations? No.\\xa0\\nDo we do any calculus and probability calculating by hand? No.\\nAre we transforming equations, where we cancel out units or terms and do lots of algebraic gymnastics? No\\nWhat You Will Do\\nWill we have Python solve our linear algebra problems for us? Yes\\nWill we have Python calculate probabilities, the area under a curve, and the slope of a line for us? Yes\\nWill we have Python do all of the calculus for us? Yes\\n\\xa0\\nSee, the data science math and stats slice of the pie is certainly doable. If you like problem-solving and are ready to challenge yourself, you’ll love data science! If you are interested in learning about data science, just apply! Our Admissions Manager can work with you to get you where you need to be starting from where you are now. Let us help you get there so you can launch a great new career.\\n\\n\\n\\n\\n\\n\\n\\n\\nOur ProgramsCloud Administration\\nFull Stack Web Development\\nData Science\\n\\n\\n\\n\\n\\nLatest Blog Articles\\nBlack Excellence in Tech: Panelist Spotlight – Wilmarie De La Cruz Mejia\\nBlack excellence in tech: Panelist Spotlight – Stephanie Jones\\nBlack excellence in tech: Panelist Spotlight – James Cooper\\nBlack excellence in tech: Panelist Spotlight – Jeanice Freeman\\nCoding Bootcamp or Self-Learning? Which is Best for You?\\n\\n\\n\\n\\n\\n\\n\\n\\n\\n\\n\\n\\n\\n\\n\\n\\n\\n \\n\\n\\n'"
      ]
     },
     "execution_count": 19,
     "metadata": {},
     "output_type": "execute_result"
    }
   ],
   "source": [
    "# see also `soup.find_all`\n",
    "#\n",
    "# beautiful soup uses `class_` as the keyword argument for searching\n",
    "# for a class because `class` is a reserved word in python\n",
    "# we'll use the class name that we identified from looking in the inspector in chrome\n",
    "article = soup.find('div', id='main-content')\n",
    "article.text"
   ]
  },
  {
   "cell_type": "code",
   "execution_count": 20,
   "id": "02cb0534-2b22-4529-ae38-38ba7df30208",
   "metadata": {},
   "outputs": [],
   "source": [
    "with open('article.txt', 'w') as f:\n",
    "    f.write(article.text)\n"
   ]
  },
  {
   "cell_type": "code",
   "execution_count": 28,
   "id": "273ba979-546a-41f2-8a77-8c4b8e2e7032",
   "metadata": {},
   "outputs": [],
   "source": [
    "def get_article_text():\n",
    "    # if we already have the data, read it locally\n",
    "    if path.exists('article.txt'):\n",
    "        with open('article.txt') as f:\n",
    "            return f.read()\n",
    "\n",
    "    # otherwise go fetch the data\n",
    "    url = 'https://codeup.com/data-science/math-in-data-science/'\n",
    "    headers = {'User-Agent': 'Codeup Data Science'}\n",
    "    response = get(url, headers=headers)\n",
    "    soup = BeautifulSoup(response.text)\n",
    "    article = soup.find('div', id='main-content')\n",
    "\n",
    "    # save it for next time\n",
    "    with open('article.txt', 'w') as f:\n",
    "        f.write(article.text)\n",
    "\n",
    "    return article.text\n"
   ]
  },
  {
   "cell_type": "code",
   "execution_count": 29,
   "id": "686daf32-6faf-402b-8afd-1a5e301aa9cb",
   "metadata": {},
   "outputs": [
    {
     "data": {
      "text/plain": [
       "'\\n\\n\\n\\n\\n\\nWhat are the Math and Stats Principles You Need for Data Science?\\nOct 21, 2020 | Data Science\\n\\n\\nComing into our Data Science program, you will need to know some math and stats. However, many of our applicants actually learn in the application process – you don’t need to be an expert before applying! Data science is a very accessible field to anyone dedicated to learning new skills, and we can work with any applicant to help them learn what they need to know. But what “skills” do we mean, exactly? Just what exactly are the data science math and stats principles you need to know?\\nWhat are the main math principles you need to know to get into Codeup’s Data Science program?\\n\\n\\nAlgebra\\nDo you know PEMDAS and can you solve for x? You will need to be or become comfortable with the following:\\xa0\\n\\nVariables (x, y, n, etc.)\\nFormulas, functions, and variable manipulations (e.g. x^2 = x + 6, solve for x).\\nOrder of evaluation: PEMDAS: parentheses, exponents, then multiplication, division, addition, and subtraction\\nCommutativity where a + b = b + a\\nAssociativity where a + (b + c) = (a + b) + c\\nAdding and subtracting matrices\\nA conceptual understanding of exponential growth/decay- things can increase at an increasing rate\\n\\nDescriptive Statistics\\nKnow what a min, max, mode, median, and average are. Have a conceptual understanding that stats/probability is about trying to quantify uncertainty.\\nData Visualization\\nKnow what a scatterplot is and how to read a barplot.\\nHow to Learn and Expand on These Concepts\\nThere are a number of great resources out there to teach you these and similar concepts. Khan Academy is a great starting place for data science math! If you want to know what exactly we assign our applicants, you’ll just have to apply!\\n\\xa0\\nWhat about once you’re in Codeup?\\n\\n\\nWhat You Won’t Do\\nDo we do any mathematical proofs for concepts or perform derivations? No.\\xa0\\nDo we do any calculus and probability calculating by hand? No.\\nAre we transforming equations, where we cancel out units or terms and do lots of algebraic gymnastics? No\\nWhat You Will Do\\nWill we have Python solve our linear algebra problems for us? Yes\\nWill we have Python calculate probabilities, the area under a curve, and the slope of a line for us? Yes\\nWill we have Python do all of the calculus for us? Yes\\n\\xa0\\nSee, the data science math and stats slice of the pie is certainly doable. If you like problem-solving and are ready to challenge yourself, you’ll love data science! If you are interested in learning about data science, just apply! Our Admissions Manager can work with you to get you where you need to be starting from where you are now. Let us help you get there so you can launch a great new career.\\n\\n\\n\\n\\n\\n\\n\\n\\nOur ProgramsCloud Administration\\nFull Stack Web Development\\nData Science\\n\\n\\n\\n\\n\\nLatest Blog Articles\\nBlack Excellence in Tech: Panelist Spotlight – Wilmarie De La Cruz Mejia\\nBlack excellence in tech: Panelist Spotlight – Stephanie Jones\\nBlack excellence in tech: Panelist Spotlight – James Cooper\\nBlack excellence in tech: Panelist Spotlight – Jeanice Freeman\\nCoding Bootcamp or Self-Learning? Which is Best for You?\\n\\n\\n\\n\\n\\n\\n\\n\\n\\n\\n\\n\\n\\n\\n\\n\\n\\n \\n\\n\\n'"
      ]
     },
     "execution_count": 29,
     "metadata": {},
     "output_type": "execute_result"
    }
   ],
   "source": [
    "get_article_text()"
   ]
  },
  {
   "cell_type": "markdown",
   "id": "d17a6031-3679-4826-b565-dbabd5c7f872",
   "metadata": {},
   "source": [
    "# Scraping Exercises"
   ]
  },
  {
   "cell_type": "code",
   "execution_count": 140,
   "id": "822a4f5c-0e01-4958-be76-09de34886f20",
   "metadata": {},
   "outputs": [],
   "source": [
    "url = 'https://codeup.com/blog/'\n",
    "headers = {'User-Agent': 'Codeup Data Science'} # Some websites don't accept the pyhon-requests default user-agent\n",
    "response = get(url, headers=headers)"
   ]
  },
  {
   "cell_type": "code",
   "execution_count": 141,
   "id": "0f062ed5-76e7-48e9-8481-28aa20282438",
   "metadata": {},
   "outputs": [
    {
     "data": {
      "text/plain": [
       "<Response [200]>"
      ]
     },
     "execution_count": 141,
     "metadata": {},
     "output_type": "execute_result"
    }
   ],
   "source": [
    "response"
   ]
  },
  {
   "cell_type": "code",
   "execution_count": 142,
   "id": "003bb2d6-135c-4c46-a5c9-f08d1c37da89",
   "metadata": {},
   "outputs": [],
   "source": [
    "# Make a soup variable holding the response content\n",
    "soup = BeautifulSoup(response.content, 'html.parser')"
   ]
  },
  {
   "cell_type": "code",
   "execution_count": 173,
   "id": "bd9435b3-734f-4703-9cc3-bbf263f61fbb",
   "metadata": {},
   "outputs": [
    {
     "name": "stdout",
     "output_type": "stream",
     "text": [
      "https://codeup.com/\n",
      "https://codeup.com/program/cloud-adminsitration/\n",
      "https://codeup.com/program/full-stack-web-development/\n",
      "https://codeup.com/program/data-science/\n",
      "/events/\n",
      "/san-antonio-events/\n",
      "/dallas-events/\n",
      "https://codeup.com/financial-aid/\n",
      "https://codeup.com/veterans/\n",
      "https://codeup.com/hire-tech-talent/\n",
      "https://alumni.codeup.com/\n",
      "https://codeup.com/resources/\n",
      "/my-story/\n",
      "https://codeup.com/blog/\n",
      "https://codeup.com/frequently-asked-questions/\n",
      "https://codeup.com/podcast/\n",
      "https://codeup.com/apply-now/\n",
      "https://codeup.com/\n",
      "/about-codeup/\n",
      "/category/behind-the-billboards/\n",
      "/careers/\n",
      "/index.php/\n",
      "https://codeup.com/programs/\n",
      "https://codeup.com/program/cloud-administration/\n",
      "https://codeup.com/program/full-stack-web-development/\n",
      "https://codeup.com/program/data-science/\n",
      "/financial-aid/\n",
      "#\n",
      "https://codeup.com/san-antonio-events/\n",
      "https://codeup.com/dallas-events/\n",
      "https://codeup.com/veterans/\n",
      "None\n",
      "https://codeup.com/san-antonio/\n",
      "https://codeup.com/dallas/\n",
      "https://codeup.com/hire-tech-talent/\n",
      "https://codeup.com/hire-tech-talent/\n",
      "https://alumni.codeup.com/\n",
      "https://codeup.com/resources/\n",
      "/my-story/\n",
      "https://codeup.com/blog/\n",
      "https://codeup.com/frequently-asked-questions/\n",
      "https://codeup.com/podcast/\n",
      "/apply-now/\n",
      "https://codeup.com/codeup-news/panelist-spotlight-4/\n",
      "https://codeup.com/codeup-news/panelist-spotlight-4/\n",
      "https://codeup.com/codeup-news/panelist-spotlight-4/\n",
      "https://codeup.com/events/black-excellence-in-tech-panelist-spotlight-stephanie-jones/\n",
      "https://codeup.com/events/black-excellence-in-tech-panelist-spotlight-stephanie-jones/\n",
      "https://codeup.com/events/black-excellence-in-tech-panelist-spotlight-stephanie-jones/\n",
      "https://codeup.com/events/black-excellence-in-tech-panelist-spotlight-james-cooper/\n",
      "https://codeup.com/events/black-excellence-in-tech-panelist-spotlight-james-cooper/\n",
      "https://codeup.com/events/black-excellence-in-tech-panelist-spotlight-james-cooper/\n",
      "https://codeup.com/events/black-excellence-in-tech-panelist-spotlight/\n",
      "https://codeup.com/events/black-excellence-in-tech-panelist-spotlight/\n",
      "https://codeup.com/events/black-excellence-in-tech-panelist-spotlight/\n",
      "https://codeup.com/tips-for-prospective-students/coding-bootcamp-or-self-learning/\n",
      "https://codeup.com/tips-for-prospective-students/coding-bootcamp-or-self-learning/\n",
      "https://codeup.com/tips-for-prospective-students/coding-bootcamp-or-self-learning/\n",
      "https://codeup.com/codeup-news/codeup-best-bootcamps/\n",
      "https://codeup.com/codeup-news/codeup-best-bootcamps/\n",
      "https://codeup.com/codeup-news/codeup-best-bootcamps/\n",
      "https://codeup.com/blog/page/2/?et_blog\n",
      "tel:12108027289\n",
      "https://www.facebook.com/GoCodeup/\n",
      "https://twitter.com/gocodeup\n",
      "https://www.instagram.com/gocodeup/?hl=en\n",
      "https://www.linkedin.com/school/3799914\n",
      "/podcast/\n",
      "/dallas\n",
      "/san-antonio\n",
      "/index.php/\n",
      "/why-codeup/\n",
      "/financial-aid/\n",
      "/my-story/\n",
      "/hire-tech-talent/\n",
      "/refund/\n",
      "/frequently-asked-questions/\n",
      "/careers/\n",
      "/pr/\n",
      "/program/full-stack-web-development/\n",
      "/program/data-science/\n",
      "/cloud-administration/\n",
      "/free/\n",
      "/apply-now/\n",
      "/privacy/\n",
      "/student-complaint-policy/\n",
      "/codeup-news/inclusion-at-codeup-during-pride-month-and-always/\n",
      "/accessibility/\n",
      "/sitemap_index.xml\n",
      "None\n",
      "None\n",
      "None\n",
      "None\n",
      "None\n",
      "None\n",
      "None\n",
      "None\n",
      "None\n",
      "None\n",
      "None\n"
     ]
    }
   ],
   "source": [
    "# All links in HTML Blog for Codeup\n",
    "for link in soup.find_all('a'): \n",
    "    print(link.get('href'))"
   ]
  },
  {
   "cell_type": "code",
   "execution_count": null,
   "id": "b8a45e71-3261-4756-8eb0-411f5f7a4640",
   "metadata": {},
   "outputs": [],
   "source": [
    "# prints all the test on the main page\n",
    "#print(soup.get_text())"
   ]
  },
  {
   "cell_type": "code",
   "execution_count": 35,
   "id": "6b726999-4d26-41e6-960b-5438e41d27ae",
   "metadata": {},
   "outputs": [
    {
     "data": {
      "text/plain": [
       "'\\n\\n\\n\\n\\n\\n\\nCodeup News & Articles\\n\\n\\n\\nSearch for:\\n\\n\\n\\n\\n\\n\\n\\n\\n\\n\\n\\n\\n\\n\\n\\n\\nBlack Excellence in Tech: Panelist Spotlight – Wilmarie De La Cruz Mejia\\nFeb 16, 2023Black excellence in tech: Panelist Spotlight - Wilmarie De La Cruz Mejia Codeup is hosting a Black Excellence in Tech...\\nread more\\n\\n\\n\\nBlack excellence in tech: Panelist Spotlight – Stephanie Jones\\nFeb 13, 2023Black excellence in tech: Panelist Spotlight - Stephanie Jones Codeup is hosting our second Black Excellence in Tech...\\nread more\\n\\n\\n\\nBlack excellence in tech: Panelist Spotlight – James Cooper\\nFeb 10, 2023Black excellence in tech: Panelist Spotlight - James Cooper Codeup is hosting our second Black Excellence in Tech...\\nread more\\n\\n\\n\\nBlack excellence in tech: Panelist Spotlight – Jeanice Freeman\\nFeb 6, 2023Black excellence in tech: Panelist Spotlight - Jeanice freeman Codeup is hosting our second Black Excellence in Tech...\\nread more\\n\\n\\n\\nCoding Bootcamp or Self-Learning? Which is Best for You?\\nJan 20, 2023If you’re interested in embarking on a career in tech, it is likely that you have taken a look into two learning...\\nread more\\n\\n\\n\\nCodeup Among Top 58 Best Coding Bootcamps of 2023\\nJan 12, 2023Codeup is pleased to announce we have been ranked among the 58 best coding bootcamps of 2023 by Course Report! Course...\\nread more\\n\\n\\n« Older Entries\\n\\n\\n\\n\\n\\n\\n\\n\\nGit Codeupdates\\nSign up for the Codeup Newsletter below and get notified on upcoming events, workshops and Codeupdates.\\n\\n\\n\\n\\n\\n\\n\\n \\n\\n'"
      ]
     },
     "execution_count": 35,
     "metadata": {},
     "output_type": "execute_result"
    }
   ],
   "source": [
    "# see also `soup.find_all`\n",
    "#\n",
    "# beautiful soup uses `class_` as the keyword argument for searching\n",
    "# for a class because `class` is a reserved word in python\n",
    "# we'll use the class name that we identified from looking in the inspector in chrome\n",
    "article = soup.find('div', id='main-content')\n",
    "article.text"
   ]
  },
  {
   "cell_type": "code",
   "execution_count": 36,
   "id": "882af914-c6d4-4add-81bc-dd25b7007438",
   "metadata": {},
   "outputs": [],
   "source": [
    "with open('article.txt', 'w') as f:\n",
    "    f.write(article.text)"
   ]
  },
  {
   "cell_type": "code",
   "execution_count": 37,
   "id": "dec26e47-9cfc-4bc9-8ad3-70818fb854b1",
   "metadata": {},
   "outputs": [
    {
     "data": {
      "text/plain": [
       "'\\n\\n\\n\\n\\n\\n\\nCodeup News & Articles\\n\\n\\n\\nSearch for:\\n\\n\\n\\n\\n\\n\\n\\n\\n\\n\\n\\n\\n\\n\\n\\n\\nBlack Excellence in Tech: Panelist Spotlight – Wilmarie De La Cruz Mejia\\nFeb 16, 2023Black excellence in tech: Panelist Spotlight - Wilmarie De La Cruz Mejia Codeup is hosting a Black Excellence in Tech...\\nread more\\n\\n\\n\\nBlack excellence in tech: Panelist Spotlight – Stephanie Jones\\nFeb 13, 2023Black excellence in tech: Panelist Spotlight - Stephanie Jones Codeup is hosting our second Black Excellence in Tech...\\nread more\\n\\n\\n\\nBlack excellence in tech: Panelist Spotlight – James Cooper\\nFeb 10, 2023Black excellence in tech: Panelist Spotlight - James Cooper Codeup is hosting our second Black Excellence in Tech...\\nread more\\n\\n\\n\\nBlack excellence in tech: Panelist Spotlight – Jeanice Freeman\\nFeb 6, 2023Black excellence in tech: Panelist Spotlight - Jeanice freeman Codeup is hosting our second Black Excellence in Tech...\\nread more\\n\\n\\n\\nCoding Bootcamp or Self-Learning? Which is Best for You?\\nJan 20, 2023If you’re interested in embarking on a career in tech, it is likely that you have taken a look into two learning...\\nread more\\n\\n\\n\\nCodeup Among Top 58 Best Coding Bootcamps of 2023\\nJan 12, 2023Codeup is pleased to announce we have been ranked among the 58 best coding bootcamps of 2023 by Course Report! Course...\\nread more\\n\\n\\n« Older Entries\\n\\n\\n\\n\\n\\n\\n\\n\\nGit Codeupdates\\nSign up for the Codeup Newsletter below and get notified on upcoming events, workshops and Codeupdates.\\n\\n\\n\\n\\n\\n\\n\\n \\n\\n'"
      ]
     },
     "execution_count": 37,
     "metadata": {},
     "output_type": "execute_result"
    }
   ],
   "source": [
    "get_article_text()"
   ]
  },
  {
   "cell_type": "code",
   "execution_count": 75,
   "id": "42231dac-5e50-4bdf-a7d5-97149719d39b",
   "metadata": {},
   "outputs": [],
   "source": [
    "import requests\n",
    "from bs4 import BeautifulSoup\n",
    "\n",
    "\n",
    "def scrape_page_metadata(url):\n",
    "    \"\"\"Scrape target URL for metadata.\"\"\"\n",
    "    headers = {\n",
    "        'User-Agent': 'Codeup Data Science'\n",
    "              }\n",
    "    pp = pprint.PrettyPrinter(indent=4)\n",
    "    r = requests.get(url, headers=headers)\n",
    "    html = BeautifulSoup(r.content, 'html.parser')\n",
    "    metadata = {\n",
    "        'title': get_title(html),\n",
    "        'description': get_description(html),\n",
    "        'image': get_image(html),\n",
    "        'favicon': get_favicon(html, url),\n",
    "        'sitename': get_site_name(html, url),\n",
    "        'color': get_theme_color(html),\n",
    "        'url': url\n",
    "        }\n",
    "    pp.pprint(metadata)\n",
    "    return metadata"
   ]
  },
  {
   "cell_type": "code",
   "execution_count": 93,
   "id": "53799b19-fc52-44a7-b221-21d0c2efcb8c",
   "metadata": {},
   "outputs": [
    {
     "name": "stdout",
     "output_type": "stream",
     "text": [
      "{   'color': None,\n",
      "    'description': [<span class=\"published\">Feb 16, 2023</span>],\n",
      "    'favicon': 'https://tribucodeup.wpenginepowered.com/wp-content/uploads/2021/10/cropped-favicon-32x32.png',\n",
      "    'image': 'https://tribucodeup.wpenginepowered.com/wp-content/uploads/2018/08/logo.png',\n",
      "    'sitename': 'Codeup',\n",
      "    'title': 'Blog - Codeup',\n",
      "    'url': 'https://codeup.com/blog/'}\n"
     ]
    },
    {
     "data": {
      "text/plain": [
       "{'title': 'Blog - Codeup',\n",
       " 'description': [<span class=\"published\">Feb 16, 2023</span>],\n",
       " 'image': 'https://tribucodeup.wpenginepowered.com/wp-content/uploads/2018/08/logo.png',\n",
       " 'favicon': 'https://tribucodeup.wpenginepowered.com/wp-content/uploads/2021/10/cropped-favicon-32x32.png',\n",
       " 'sitename': 'Codeup',\n",
       " 'color': None,\n",
       " 'url': 'https://codeup.com/blog/'}"
      ]
     },
     "execution_count": 93,
     "metadata": {},
     "output_type": "execute_result"
    }
   ],
   "source": [
    "scrape_page_metadata(url)"
   ]
  },
  {
   "cell_type": "code",
   "execution_count": 86,
   "id": "09a06d16-5140-41db-b304-8dd98d27a65e",
   "metadata": {},
   "outputs": [],
   "source": [
    "def get_title(html):\n",
    "    \"\"\"Scrape page title.\"\"\"\n",
    "    title = None\n",
    "    if html.title.string:\n",
    "        title = html.title.string\n",
    "    elif html.find(\"meta\", property=\"og:title\"):\n",
    "        title = html.find(\"meta\", property=\"og:title\").get('content')\n",
    "    elif html.find(\"meta\", property=\"twitter:title\"):\n",
    "        title = html.find(\"meta\", property=\"twitter:title\").get('content')\n",
    "    elif html.find(\"h1\"):\n",
    "        title = html.find(\"h1\").string\n",
    "    return title\n",
    "\n",
    "\n",
    "def get_description(html):\n",
    "    \"\"\"Scrape page description.\"\"\"\n",
    "    description = None\n",
    "    if html.find(\"meta\", property=\"description\"):\n",
    "        description = html.find(\"meta\", property=\"description\").get('content')\n",
    "    elif html.find(\"meta\", property=\"og:description\"):\n",
    "        description = html.find(\"meta\", property=\"og:description\").get('content')\n",
    "    elif html.find(\"meta\", property=\"twitter:description\"):\n",
    "        description = html.find(\"meta\", property=\"twitter:description\").get('content')\n",
    "    elif html.find(\"p\"):\n",
    "        description = html.find(\"p\").contents\n",
    "    return description\n",
    "\n",
    "\n",
    "def get_image(html):\n",
    "    \"\"\"Scrape share image.\"\"\"\n",
    "    image = None\n",
    "    if html.find(\"meta\", property=\"image\"):\n",
    "        image = html.find(\"meta\", property=\"image\").get('content')\n",
    "    elif html.find(\"meta\", property=\"og:image\"):\n",
    "        image = html.find(\"meta\", property=\"og:image\").get('content')\n",
    "    elif html.find(\"meta\", property=\"twitter:image\"):\n",
    "        image = html.find(\"meta\", property=\"twitter:image\").get('content')\n",
    "    elif html.find(\"img\", src=True):\n",
    "        image = html.find_all(\"img\").get('src')\n",
    "    return image\n",
    "\n",
    "\n",
    "def get_site_name(html, url):\n",
    "    \"\"\"Scrape site name.\"\"\"\n",
    "    if html.find(\"meta\", property=\"og:site_name\"):\n",
    "        site_name = html.find(\"meta\", property=\"og:site_name\").get('content')\n",
    "    elif html.find(\"meta\", property='twitter:title'):\n",
    "        site_name = html.find(\"meta\", property=\"twitter:title\").get('content')\n",
    "    else:\n",
    "        site_name = url.split('//')[1]\n",
    "        return site_name.split('/')[0].rsplit('.')[1].capitalize()\n",
    "    return site_name\n",
    "\n",
    "\n",
    "def get_favicon(html, url):\n",
    "    \"\"\"Scrape favicon.\"\"\"\n",
    "    if html.find(\"link\", attrs={\"rel\": \"icon\"}):\n",
    "        favicon = html.find(\"link\", attrs={\"rel\": \"icon\"}).get('href')\n",
    "    elif html.find(\"link\", attrs={\"rel\": \"shortcut icon\"}):\n",
    "        favicon = html.find(\"link\", attrs={\"rel\": \"shortcut icon\"}).get('href')\n",
    "    else:\n",
    "        favicon = f'{url.rstrip(\"/\")}/favicon.ico'\n",
    "    return favicon\n",
    "\n",
    "\n",
    "def get_theme_color(html):\n",
    "    \"\"\"Scrape brand color.\"\"\"\n",
    "    if html.find(\"meta\", property=\"theme-color\"):\n",
    "        color = html.find(\"meta\", property=\"theme-color\").get('content')\n",
    "        return color\n",
    "    return None"
   ]
  },
  {
   "cell_type": "code",
   "execution_count": 87,
   "id": "3bbef466-5501-42a1-87cd-404d002ad3e4",
   "metadata": {},
   "outputs": [
    {
     "data": {
      "text/plain": [
       "'Blog - Codeup'"
      ]
     },
     "execution_count": 87,
     "metadata": {},
     "output_type": "execute_result"
    }
   ],
   "source": [
    "get_title(html)"
   ]
  },
  {
   "cell_type": "code",
   "execution_count": 88,
   "id": "f335896c-9985-46c4-a0ae-f2e9ee0fd889",
   "metadata": {},
   "outputs": [
    {
     "data": {
      "text/plain": [
       "[<span class=\"published\">Feb 16, 2023</span>]"
      ]
     },
     "execution_count": 88,
     "metadata": {},
     "output_type": "execute_result"
    }
   ],
   "source": [
    "get_description(html)"
   ]
  },
  {
   "cell_type": "code",
   "execution_count": 89,
   "id": "3f4b4a75-1680-4c51-b5ba-d4a962047d9f",
   "metadata": {},
   "outputs": [
    {
     "data": {
      "text/plain": [
       "'https://tribucodeup.wpenginepowered.com/wp-content/uploads/2018/08/logo.png'"
      ]
     },
     "execution_count": 89,
     "metadata": {},
     "output_type": "execute_result"
    }
   ],
   "source": [
    "get_image(html)"
   ]
  },
  {
   "cell_type": "code",
   "execution_count": 90,
   "id": "c74426b3-47e8-47cd-918a-bdc57efa0ec0",
   "metadata": {},
   "outputs": [
    {
     "data": {
      "text/plain": [
       "'Codeup'"
      ]
     },
     "execution_count": 90,
     "metadata": {},
     "output_type": "execute_result"
    }
   ],
   "source": [
    "get_site_name(html, url)"
   ]
  },
  {
   "cell_type": "code",
   "execution_count": 91,
   "id": "e0ab4d0f-cd69-45ac-9c7f-d2b05eeff391",
   "metadata": {},
   "outputs": [
    {
     "data": {
      "text/plain": [
       "'https://tribucodeup.wpenginepowered.com/wp-content/uploads/2021/10/cropped-favicon-32x32.png'"
      ]
     },
     "execution_count": 91,
     "metadata": {},
     "output_type": "execute_result"
    }
   ],
   "source": [
    "get_favicon(html, url)"
   ]
  },
  {
   "cell_type": "code",
   "execution_count": 92,
   "id": "f1735904-2987-493d-8c47-ba0cbe094fc8",
   "metadata": {},
   "outputs": [],
   "source": [
    "get_theme_color(html)"
   ]
  },
  {
   "cell_type": "markdown",
   "id": "f403f7db-ee57-4fdf-a862-7e8e741022bf",
   "metadata": {},
   "source": [
    "# Codeup HTML"
   ]
  },
  {
   "cell_type": "code",
   "execution_count": 171,
   "id": "7701467b-d4c5-47e9-a2fc-08714feeaec4",
   "metadata": {},
   "outputs": [
    {
     "name": "stdout",
     "output_type": "stream",
     "text": [
      "https://codeup.com/\n",
      "https://codeup.com/program/cloud-adminsitration/\n",
      "https://codeup.com/program/full-stack-web-development/\n",
      "https://codeup.com/program/data-science/\n",
      "/events/\n",
      "/san-antonio-events/\n",
      "/dallas-events/\n",
      "https://codeup.com/financial-aid/\n",
      "https://codeup.com/veterans/\n",
      "https://codeup.com/hire-tech-talent/\n",
      "https://alumni.codeup.com/\n",
      "https://codeup.com/resources/\n",
      "/my-story/\n",
      "https://codeup.com/blog/\n",
      "https://codeup.com/frequently-asked-questions/\n",
      "https://codeup.com/podcast/\n",
      "https://codeup.com/apply-now/\n",
      "https://codeup.com/\n",
      "/about-codeup/\n",
      "/category/behind-the-billboards/\n",
      "/careers/\n",
      "/index.php/\n",
      "https://codeup.com/programs/\n",
      "https://codeup.com/program/cloud-administration/\n",
      "https://codeup.com/program/full-stack-web-development/\n",
      "https://codeup.com/program/data-science/\n",
      "/financial-aid/\n",
      "#\n",
      "https://codeup.com/san-antonio-events/\n",
      "https://codeup.com/dallas-events/\n",
      "https://codeup.com/veterans/\n",
      "None\n",
      "https://codeup.com/san-antonio/\n",
      "https://codeup.com/dallas/\n",
      "https://codeup.com/hire-tech-talent/\n",
      "https://codeup.com/hire-tech-talent/\n",
      "https://alumni.codeup.com/\n",
      "https://codeup.com/resources/\n",
      "/my-story/\n",
      "https://codeup.com/blog/\n",
      "https://codeup.com/frequently-asked-questions/\n",
      "https://codeup.com/podcast/\n",
      "/apply-now/\n",
      "https://codeup.com/codeup-news/panelist-spotlight-4/\n",
      "https://codeup.com/codeup-news/panelist-spotlight-4/\n",
      "https://codeup.com/codeup-news/panelist-spotlight-4/\n",
      "https://codeup.com/events/black-excellence-in-tech-panelist-spotlight-stephanie-jones/\n",
      "https://codeup.com/events/black-excellence-in-tech-panelist-spotlight-stephanie-jones/\n",
      "https://codeup.com/events/black-excellence-in-tech-panelist-spotlight-stephanie-jones/\n",
      "https://codeup.com/events/black-excellence-in-tech-panelist-spotlight-james-cooper/\n",
      "https://codeup.com/events/black-excellence-in-tech-panelist-spotlight-james-cooper/\n",
      "https://codeup.com/events/black-excellence-in-tech-panelist-spotlight-james-cooper/\n",
      "https://codeup.com/events/black-excellence-in-tech-panelist-spotlight/\n",
      "https://codeup.com/events/black-excellence-in-tech-panelist-spotlight/\n",
      "https://codeup.com/events/black-excellence-in-tech-panelist-spotlight/\n",
      "https://codeup.com/tips-for-prospective-students/coding-bootcamp-or-self-learning/\n",
      "https://codeup.com/tips-for-prospective-students/coding-bootcamp-or-self-learning/\n",
      "https://codeup.com/tips-for-prospective-students/coding-bootcamp-or-self-learning/\n",
      "https://codeup.com/codeup-news/codeup-best-bootcamps/\n",
      "https://codeup.com/codeup-news/codeup-best-bootcamps/\n",
      "https://codeup.com/codeup-news/codeup-best-bootcamps/\n",
      "https://codeup.com/blog/page/2/?et_blog\n",
      "tel:12108027289\n",
      "https://www.facebook.com/GoCodeup/\n",
      "https://twitter.com/gocodeup\n",
      "https://www.instagram.com/gocodeup/?hl=en\n",
      "https://www.linkedin.com/school/3799914\n",
      "/podcast/\n",
      "/dallas\n",
      "/san-antonio\n",
      "/index.php/\n",
      "/why-codeup/\n",
      "/financial-aid/\n",
      "/my-story/\n",
      "/hire-tech-talent/\n",
      "/refund/\n",
      "/frequently-asked-questions/\n",
      "/careers/\n",
      "/pr/\n",
      "/program/full-stack-web-development/\n",
      "/program/data-science/\n",
      "/cloud-administration/\n",
      "/free/\n",
      "/apply-now/\n",
      "/privacy/\n",
      "/student-complaint-policy/\n",
      "/codeup-news/inclusion-at-codeup-during-pride-month-and-always/\n",
      "/accessibility/\n",
      "/sitemap_index.xml\n",
      "None\n",
      "None\n",
      "None\n",
      "None\n",
      "None\n",
      "None\n",
      "None\n",
      "None\n",
      "None\n",
      "None\n",
      "None\n"
     ]
    }
   ],
   "source": [
    "for link in soup.find_all('a'): \n",
    "    print((link.get('href')))"
   ]
  },
  {
   "cell_type": "code",
   "execution_count": 162,
   "id": "d768a7cd-4969-468c-aa6b-cad2b6fcc5cc",
   "metadata": {},
   "outputs": [
    {
     "data": {
      "text/plain": [
       "b''"
      ]
     },
     "execution_count": 162,
     "metadata": {},
     "output_type": "execute_result"
    }
   ],
   "source": []
  },
  {
   "cell_type": "code",
   "execution_count": null,
   "id": "64d75dc6-0eb9-4876-8a23-82ddfd4ede64",
   "metadata": {},
   "outputs": [],
   "source": []
  },
  {
   "cell_type": "code",
   "execution_count": null,
   "id": "e5cd9535-0644-4373-bac5-413ad4f2595f",
   "metadata": {},
   "outputs": [],
   "source": []
  }
 ],
 "metadata": {
  "kernelspec": {
   "display_name": "Python 3 (ipykernel)",
   "language": "python",
   "name": "python3"
  },
  "language_info": {
   "codemirror_mode": {
    "name": "ipython",
    "version": 3
   },
   "file_extension": ".py",
   "mimetype": "text/x-python",
   "name": "python",
   "nbconvert_exporter": "python",
   "pygments_lexer": "ipython3",
   "version": "3.9.13"
  }
 },
 "nbformat": 4,
 "nbformat_minor": 5
}
