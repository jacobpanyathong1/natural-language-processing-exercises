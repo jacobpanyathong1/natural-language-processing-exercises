{
 "cells": [
  {
   "cell_type": "code",
   "execution_count": 30,
   "id": "d020d83e",
   "metadata": {},
   "outputs": [],
   "source": [
    "import re\n",
    "import pandas as pd"
   ]
  },
  {
   "cell_type": "code",
   "execution_count": 38,
   "id": "4badf81a",
   "metadata": {},
   "outputs": [],
   "source": [
    "def is_vowel(word = None):\n",
    "    search = bool(re.search(r'[aeiou]', word))\n",
    "    return search\n"
   ]
  },
  {
   "cell_type": "code",
   "execution_count": 39,
   "id": "6a335984",
   "metadata": {},
   "outputs": [
    {
     "data": {
      "text/plain": [
       "True"
      ]
     },
     "execution_count": 39,
     "metadata": {},
     "output_type": "execute_result"
    }
   ],
   "source": [
    "is_vowel('jacob')"
   ]
  },
  {
   "cell_type": "code",
   "execution_count": 90,
   "id": "a2fc565e",
   "metadata": {},
   "outputs": [],
   "source": [
    "def is_valid_username(word = None):\n",
    "    search = bool(re.findall(r'^[a-z][a-z0-9_]{1,32}$', word))\n",
    "    return search"
   ]
  },
  {
   "cell_type": "code",
   "execution_count": null,
   "id": "310d46af",
   "metadata": {},
   "outputs": [],
   "source": []
  },
  {
   "cell_type": "code",
   "execution_count": 91,
   "id": "5103c69e",
   "metadata": {},
   "outputs": [
    {
     "data": {
      "text/plain": [
       "False"
      ]
     },
     "execution_count": 91,
     "metadata": {},
     "output_type": "execute_result"
    }
   ],
   "source": [
    "is_valid_username('jacobisawesomeandhasonagreenshirtwithjeanswhataguymanihopeibelikehimesometday')"
   ]
  },
  {
   "cell_type": "code",
   "execution_count": 117,
   "id": "f53c06d4",
   "metadata": {},
   "outputs": [
    {
     "data": {
      "text/plain": [
       "[]"
      ]
     },
     "execution_count": 117,
     "metadata": {},
     "output_type": "execute_result"
    }
   ],
   "source": [
    "re.findall(r'\\d{3}.\\d{3}.\\d{4}', '(210) 867 5309')"
   ]
  },
  {
   "cell_type": "code",
   "execution_count": null,
   "id": "43e7170d",
   "metadata": {},
   "outputs": [],
   "source": []
  },
  {
   "cell_type": "code",
   "execution_count": 121,
   "id": "08eb2580",
   "metadata": {},
   "outputs": [],
   "source": [
    "regex1 = r\".[0-9].{3}\\s[0-9]{3}\\s[0-9]{4}\"\n",
    "regex2 = r\".\\d\\s[0-9]{3}.[0-9]{3}.[0-9]{4}\"     \n",
    "#make a list to add them to."
   ]
  },
  {
   "cell_type": "code",
   "execution_count": null,
   "id": "efca52e7",
   "metadata": {},
   "outputs": [],
   "source": []
  }
 ],
 "metadata": {
  "kernelspec": {
   "display_name": "Python 3 (ipykernel)",
   "language": "python",
   "name": "python3"
  },
  "language_info": {
   "codemirror_mode": {
    "name": "ipython",
    "version": 3
   },
   "file_extension": ".py",
   "mimetype": "text/x-python",
   "name": "python",
   "nbconvert_exporter": "python",
   "pygments_lexer": "ipython3",
   "version": "3.9.13"
  }
 },
 "nbformat": 4,
 "nbformat_minor": 5
}
