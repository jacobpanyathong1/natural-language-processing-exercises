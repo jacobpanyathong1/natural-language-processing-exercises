{
 "cells": [
  {
   "cell_type": "code",
   "execution_count": 30,
   "id": "72e3fdf5",
   "metadata": {},
   "outputs": [],
   "source": [
    "import re\n",
    "import pandas as pd"
   ]
  },
  {
   "cell_type": "code",
   "execution_count": 175,
   "id": "7a85e81e",
   "metadata": {},
   "outputs": [],
   "source": [
    " def is_vowel(word=None):   \n",
    "    recomp= re.compile(r\"^[aeiou]$\")\n",
    "    if re.search(recomp, word):\n",
    "        return True\n",
    "    else:\n",
    "        return False"
   ]
  },
  {
   "cell_type": "code",
   "execution_count": 176,
   "id": "ed82689a",
   "metadata": {},
   "outputs": [
    {
     "data": {
      "text/plain": [
       "True"
      ]
     },
     "execution_count": 176,
     "metadata": {},
     "output_type": "execute_result"
    }
   ],
   "source": [
    "is_vowel('a')"
   ]
  },
  {
   "cell_type": "code",
   "execution_count": 180,
   "id": "229efd5b",
   "metadata": {},
   "outputs": [
    {
     "data": {
      "text/plain": [
       "False"
      ]
     },
     "execution_count": 180,
     "metadata": {},
     "output_type": "execute_result"
    }
   ],
   "source": [
    "is_vowel('jacob')"
   ]
  },
  {
   "cell_type": "code",
   "execution_count": 186,
   "id": "76831a79",
   "metadata": {},
   "outputs": [],
   "source": [
    "def is_valid_username(word = None):\n",
    "    recomp= re.compile(r\"^[a-z][a-z0-9_]{1,32}$\")\n",
    "    if re.findall(recomp, word):\n",
    "        return True\n",
    "    else:\n",
    "        return False"
   ]
  },
  {
   "cell_type": "code",
   "execution_count": 187,
   "id": "ca0992ea",
   "metadata": {},
   "outputs": [
    {
     "data": {
      "text/plain": [
       "True"
      ]
     },
     "execution_count": 187,
     "metadata": {},
     "output_type": "execute_result"
    }
   ],
   "source": [
    "is_valid_username('codeup')"
   ]
  },
  {
   "cell_type": "code",
   "execution_count": 189,
   "id": "4d875fe5",
   "metadata": {},
   "outputs": [
    {
     "data": {
      "text/plain": [
       "True"
      ]
     },
     "execution_count": 189,
     "metadata": {},
     "output_type": "execute_result"
    }
   ],
   "source": [
    "is_valid_username('codeup123')"
   ]
  },
  {
   "cell_type": "code",
   "execution_count": 190,
   "id": "64adf980",
   "metadata": {},
   "outputs": [
    {
     "data": {
      "text/plain": [
       "False"
      ]
     },
     "execution_count": 190,
     "metadata": {},
     "output_type": "execute_result"
    }
   ],
   "source": [
    "is_valid_username('jacobisawesomeandhasonagreenshirtwithjeanswhataguyman')"
   ]
  },
  {
   "cell_type": "code",
   "execution_count": 191,
   "id": "a7b0cbca",
   "metadata": {},
   "outputs": [],
   "source": [
    "def phone_numbers(word=None):\n",
    "    recomp= re.compile(r'.*\\d{3}|.*\\d{3}.*\\d{4}')\n",
    "    if re.findall(recomp, word):\n",
    "        return True\n",
    "    else:\n",
    "        return False"
   ]
  },
  {
   "cell_type": "code",
   "execution_count": 192,
   "id": "84471cdf",
   "metadata": {},
   "outputs": [
    {
     "data": {
      "text/plain": [
       "True"
      ]
     },
     "execution_count": 192,
     "metadata": {},
     "output_type": "execute_result"
    }
   ],
   "source": [
    "phone_numbers('(210) 867 5309')"
   ]
  },
  {
   "cell_type": "code",
   "execution_count": 193,
   "id": "ea5c2eb3",
   "metadata": {},
   "outputs": [
    {
     "data": {
      "text/plain": [
       "True"
      ]
     },
     "execution_count": 193,
     "metadata": {},
     "output_type": "execute_result"
    }
   ],
   "source": [
    "phone_numbers('+1 210.867.5309')"
   ]
  },
  {
   "cell_type": "code",
   "execution_count": 194,
   "id": "b063bb9c",
   "metadata": {},
   "outputs": [
    {
     "data": {
      "text/plain": [
       "True"
      ]
     },
     "execution_count": 194,
     "metadata": {},
     "output_type": "execute_result"
    }
   ],
   "source": [
    "phone_numbers('867-5309')"
   ]
  },
  {
   "cell_type": "code",
   "execution_count": 195,
   "id": "2aacf8c1",
   "metadata": {},
   "outputs": [
    {
     "data": {
      "text/plain": [
       "True"
      ]
     },
     "execution_count": 195,
     "metadata": {},
     "output_type": "execute_result"
    }
   ],
   "source": [
    "phone_numbers('210-867-5309')"
   ]
  },
  {
   "cell_type": "code",
   "execution_count": 210,
   "id": "f7b0dfad",
   "metadata": {},
   "outputs": [],
   "source": [
    "def format_dates():\n",
    "    recomp= re.compile(r'(\\d+)/(\\d+)/(\\d+)')\n",
    "    dates = pd.Series(['02/04/19', \n",
    "                       '02/05/19', \n",
    "                       '02/06/19', \n",
    "                       '02/07/19', \n",
    "                       '02/08/19', \n",
    "                       '02/09/19', \n",
    "                       '02/10/19'])\n",
    "    f_dates= [re.sub(recomp, r'\\3/\\1/\\2' , date) for date in dates]\n",
    "    return f_dates"
   ]
  },
  {
   "cell_type": "code",
   "execution_count": 211,
   "id": "f13a8fe0",
   "metadata": {},
   "outputs": [
    {
     "data": {
      "text/plain": [
       "['19/02/04',\n",
       " '19/02/05',\n",
       " '19/02/06',\n",
       " '19/02/07',\n",
       " '19/02/08',\n",
       " '19/02/09',\n",
       " '19/02/10']"
      ]
     },
     "execution_count": 211,
     "metadata": {},
     "output_type": "execute_result"
    }
   ],
   "source": [
    "format_dates()"
   ]
  },
  {
   "cell_type": "code",
   "execution_count": null,
   "id": "8cf30f64",
   "metadata": {},
   "outputs": [],
   "source": []
  }
 ],
 "metadata": {
  "kernelspec": {
   "display_name": "Python 3 (ipykernel)",
   "language": "python",
   "name": "python3"
  },
  "language_info": {
   "codemirror_mode": {
    "name": "ipython",
    "version": 3
   },
   "file_extension": ".py",
   "mimetype": "text/x-python",
   "name": "python",
   "nbconvert_exporter": "python",
   "pygments_lexer": "ipython3",
   "version": "3.9.13"
  }
 },
 "nbformat": 4,
 "nbformat_minor": 5
}
