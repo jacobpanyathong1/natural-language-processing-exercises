{
 "cells": [
  {
   "cell_type": "code",
   "execution_count": 24,
   "id": "068c4603-364d-4328-9b23-82d2c7dd691f",
   "metadata": {},
   "outputs": [],
   "source": [
    "import unicodedata\n",
    "import re\n",
    "import json\n",
    "\n",
    "import nltk\n",
    "from nltk.tokenize.toktok import ToktokTokenizer\n",
    "from nltk.corpus import stopwords\n",
    "\n",
    "import pandas as pd\n",
    "\n",
    "import acquire\n",
    "\n",
    "import sketch\n"
   ]
  },
  {
   "cell_type": "code",
   "execution_count": 2,
   "id": "d4b37f2d-04a3-444c-b057-b97725cb7602",
   "metadata": {},
   "outputs": [],
   "source": [
    "link_lists = acquire.get_links()"
   ]
  },
  {
   "cell_type": "code",
   "execution_count": 65,
   "id": "b1d6371f-384a-42ba-b9f2-851faf55721e",
   "metadata": {},
   "outputs": [],
   "source": [
    "blog_data =acquire.get_blog_articles(link_lists)"
   ]
  },
  {
   "cell_type": "code",
   "execution_count": 66,
   "id": "630b23bb-d8af-479d-9420-02e42cb48702",
   "metadata": {},
   "outputs": [
    {
     "data": {
      "text/plain": [
       "[{'title': 'Black Excellence in Tech: Panelist Spotlight – Wilmarie De La Cruz Mejia',\n",
       "  'link': 'https://codeup.com/codeup-news/codeup-best-bootcamps/',\n",
       "  'date_published': 'Feb 16, 2023',\n",
       "  'content': '\\nBlack excellence in tech: Panelist Spotlight – Wilmarie De La Cruz Mejia\\n\\nCodeup is hosting a Black Excellence in Tech Panel in honor of Black History Month on February 22, 2023! To further celebrate, we’d like to spotlight each of our panelists leading up to the discussion to learn a bit about their respective experiences as black leaders in the tech industry!\\xa0\\xa0\\nMeet Wilmarie!\\nWilmarie De\\xa0La Cruz Mejia is a current Codeup student on the path to becoming a Full-Stack Web Developer at our Dallas, TX campus.\\xa0\\nWilmarie is a veteran expanding her knowledge of programming languages and technologies on her journey with Codeup.\\xa0\\nWe asked Wilmarie to share more about her experience at Codeup. She shares, “I was able to meet other people who were passionate about coding and be in a positive learning environment.”\\nWe hope you can join us on February 22nd to sit in on an insightful conversation with Wilmarie and all of our panelists!\\n'},\n",
       " {'title': 'Black excellence in tech: Panelist Spotlight – Stephanie Jones',\n",
       "  'link': 'https://codeup.com/codeup-news/codeup-best-bootcamps/',\n",
       "  'date_published': 'Feb 13, 2023',\n",
       "  'content': '\\nBlack excellence in tech: Panelist Spotlight – Stephanie Jones\\nCodeup is hosting our second Black Excellence in Tech Panel in honor of Black History Month on February 22, 2023! To further celebrate, we’d like to spotlight each of our panelists leading up to the discussion to learn a bit about their respective experiences as black leaders in the tech industry!\\xa0\\xa0\\nMeet Stephanie!\\n\\nStephanie Jones is an Alumna of Codeup’s Data Science Program (March 2022) and currently works as a Business Intelligence Developer for Victory Capital, a global investment management firm based in San Antonio, TX.\\xa0\\nStephanie is passionate about visual storytelling and, as a late “tech bloomer,” is also an advocate for equitable access and educational opportunities in technology for underserved communities.\\nWe asked Stephanie to share more about her experience at Codeup. She shares, “I have always been a creative and Codeup opened up a world of possibilities by exposing me to advanced technical concepts and career opportunities.” Stephanie also speaks to the community of support in the program and beyond.\\xa0 “The network and support from instructors, mentors, and peers began during the application phase (which was intense), before the program even started, and has carried over even after completing the program and entering into the workforce.”\\nWe hope you can join us on February 22nd to sit in on an insightful conversation with Stephanie and all of our panelists!\\n'},\n",
       " {'title': 'Black excellence in tech: Panelist Spotlight – James Cooper',\n",
       "  'link': 'https://codeup.com/codeup-news/codeup-best-bootcamps/',\n",
       "  'date_published': 'Feb 10, 2023',\n",
       "  'content': '\\nBlack excellence in tech: Panelist Spotlight – James Cooper\\nCodeup is hosting our second Black Excellence in Tech Panel in honor of Black History Month on February 22, 2023! To further celebrate, we’d like to spotlight each of our panelists leading up to the discussion to learn a bit about their respective experiences as black leaders in the tech industry! \\nMeet James!\\n\\nJames Cooper is the Senior Placement Manager at Codeup, and will also be the Moderator for the Black Excellence in Tech Panel. James previously served as an Athletic Director in higher education and in that role his responsibilities included liaison for Title IX. As Title IX liaison, James oversaw complaints of discrimination and identifying and addressing any patterns or systemic problems that arose during the review of complaints. Additionally, he spent two years assisting the Department of Justice in building college campuses’ capacity to lessen violence against women, to administer justice for victims of domestic violence, dating violence, sexual assault, and stalking, and to increase services for those victims.\\nAt Codeup, James helps students identify career opportunities and supply them with the necessary tools to ensure they are able to compete for those opportunities. We asked James about his experience at Codeup, he shared, “This is the first employer in my professional experiences that promotes true autonomy and community amongst its staff.”\\nJames believes in his ability to overcome many obstacles and challenges and utilizes his lens and social construct towards the Human-Centered Approach to Service Delivery. He serves as an infinite example of thought provoking philosopher bridging gaps between academics, athletics and prioritizing the process of transitioning community assets and values for a sustainable legacy.\\nWe hope you can join us on February 22nd to sit in on an insightful conversation with James and all of our panelists!\\n'},\n",
       " {'title': 'Black excellence in tech: Panelist Spotlight – Jeanice Freeman',\n",
       "  'link': 'https://codeup.com/codeup-news/codeup-best-bootcamps/',\n",
       "  'date_published': 'Feb 6, 2023',\n",
       "  'content': '\\nBlack excellence in tech: Panelist Spotlight – Jeanice freeman\\nCodeup is hosting our second Black Excellence in Tech Panel in honor of Black History Month on February 22, 2023! To further celebrate, we’d like to spotlight each of our panelists leading up to the discussion to learn a bit about their respective experiences as black leaders in the tech industry!\\nMeet Jeanice!\\nJeanice Freeman is the Student Experience Specialist at Codeup, where her role is to provide support, advocacy, inclusivity, growth, and resources for students. Prior to Codeup, she worked in higher education, k-12 education, community development, and human services providing support, resources, training, development, and growth opportunities. She holds a B.S and M.S degree and is currently working on her Ed. D in Executive Leadership. She plans to continue doing what she loves as an educator and provide space and opportunities for adult learners to continue to grow.\\nWe asked Jeanice about her experience with Codeup. She shared, “Codeup has allowed me to do what I love and create spaces for others to thrive and grow. I am able to work with diverse populations and provide support and development opportunities for non-traditional students. Codeup has also provided opportunities for my own growth and with that has become a special organization to be a part of.”\\nDon’t forget to tune in on February 22nd to sit in on an insightful conversation.\\n'},\n",
       " {'title': 'Coding Bootcamp or Self-Learning? Which is Best for You?',\n",
       "  'link': 'https://codeup.com/codeup-news/codeup-best-bootcamps/',\n",
       "  'date_published': 'Jan 20, 2023',\n",
       "  'content': '\\nIf you’re interested in embarking on a career in tech, it is likely that you have taken a look into two learning paths: self-learning vs. coding bootcamps. But what are the differences?\\nSelf-Learning\\nMany online institutions offer self-learning courses. This is becoming increasingly popular as students are becoming more aware of their individual learning styles, and value flexibility and self-paced programs.\\nAdvantages of Self-Learning\\n\\nYou can form your instruction at times that best suit your needs and lifestyle\\nYou can purse your new path from the comfort of your home if you choose!\\nThere are many self-learning courses that offer flexible payment options\\n\\nDisadvantages of Self-Learning\\n\\nWorking alone can sometimes lead to a lack of motivation, requiring a great deal of strictness to remain on track\\nThere are no peers or instructors physically present to study with or ask questions\\n\\nTraditional Coding Bootcamp\\nCoding bootcamps have a reputation for being the accelerated path to launching a career in tech. This tends to work best for students that thrive off of structured learning, with a support team to assist throughout the process.\\nAdvantages of Coding Bootcamps\\n\\nBootcamps are typically instructor-led meaning you have access to industry experts throughout your program to help you fully understand the material\\nYou and your peers will more than likely need to complete a project together before the end of your course. This will aid in forming connections with the next group of individuals to enter the tech industry (which is great for networking!)\\nTo employers, completing a program through a coding bootcamp looks phenomenal! This demonstrates your ability to commit to something complex and learn quickly.\\n\\nDisadvantages of Coding Bootcamps\\n\\nEvery piece of information covered in a coding bootcamp’s curriculum may not be imperative to your new role. A top goal of a bootcamp is to lay a good foundation for many possible careers. This means that if the curriculum covers pieces you may already know, or that do not exactly pertain to you, you will still need to be actively involved in the lessons.\\nIf you are someone who prefers to spend a lot of time absorbing information, you may not be given the opportunity to do so, given that a bootcamp has a structured curriculum with time frames for each topic.\\n\\nBoth options have their advantages and disadvantages, but selecting which path is the correct choice for you should be based on your learning style and life circumstances.\\nCodeup\\nCodeup is the first, and currently the only accredited* coding bootcamp in Texas. Our program offerings range from 15 to 20 weeks and include: Full-Stack Web Development, Data Science and Cloud Administration. These programs are open to individuals of all backgrounds and experience levels.\\nWhen you decide to transition careers with Codeup, our commitment to you goes beyond class-time. You will have direct access to a support system including:\\n\\nAdmissions and financial aid managers\\nA student experience team\\nInstructors who are subject matter experts\\nA placement team looking to help you secure a job in-field once you graduate\\n\\nWe also offer a tuition refund guarantee! We will refund your paid tuition back to you if you do not find a job in-field within six months of completing a Codeup program.\\nIf this sounds like a good fit for you, use any of the following options to launch your career in tech!\\n\\nAttend a 100% free instructor-led workshop to try your hand at coding!\\nRequest more information on one or all of our programs\\nGet started now by filling out a quick form\\nSchedule time with an admissions manager to talk through the process\\n\\n*Codeup is accredited for postsecondary, non-degree granting, career and technology programs by the Middle States Commission on Secondary Schools of the Middle States Association of Colleges and Schools, 3624 Market Street, Philadelphia, PA 19104, (267) 284-5000\\n'},\n",
       " {'title': 'Codeup Among Top 58 Best Coding Bootcamps of 2023',\n",
       "  'link': 'https://codeup.com/codeup-news/codeup-best-bootcamps/',\n",
       "  'date_published': 'Jan 12, 2023',\n",
       "  'content': '\\nCodeup is pleased to announce we have been ranked among the 58 best coding bootcamps of 2023 by Course Report!\\nCourse Report is a platform that has become essential in researching coding bootcamps over the last 10 years. Every year, Course Report shares a list of coding bootcamps worldwide that meet a high standard in their educational offerings. The following were factors in the decision-making process:\\n\\nAlumni and Student Reviews\\nTransparency Around Career Outcomes\\nSalary-Based Financing Options\\nSchool’s Operation Time\\nNumber of Campuses\\nSelectivity in the Application Process\\nVetted Lending Partnerships\\nThe Caliber of Career Support\\nCommitment to Diversity\\n\\nCodeup was highlighted for being an established school with transparent outcomes.\\nCourse Report is primarily utilized by previous and potential students seeking information on coding bootcamps. Our outstanding alumni have shared their genuine experiences upon completing Codeup programs; anyone seeking information on Codeup can access their reviews!\\nA huge thank you goes to our alumni for sharing your journeys, the Codeup staff for continuing to deliver excellence, and Course Report for recognizing our school in this year’s rankings.\\n\\n'}]"
      ]
     },
     "execution_count": 66,
     "metadata": {},
     "output_type": "execute_result"
    }
   ],
   "source": [
    "blog_data"
   ]
  },
  {
   "cell_type": "code",
   "execution_count": 9,
   "id": "0b28e321-d526-4a32-92b2-633cad8dc42a",
   "metadata": {},
   "outputs": [],
   "source": [
    "sample_lower_data = blog_data[0]"
   ]
  },
  {
   "cell_type": "code",
   "execution_count": 67,
   "id": "71e1c99e-97bd-4510-97f2-1e63f351d47d",
   "metadata": {},
   "outputs": [],
   "source": [
    "lowercase_dict = {k.lower(): v.lower() if isinstance(v, str) else v for k, v in sample_lower_data.items()}"
   ]
  },
  {
   "cell_type": "code",
   "execution_count": 68,
   "id": "1253dde0-bd5b-40ef-a752-31b203f2f4fe",
   "metadata": {},
   "outputs": [
    {
     "data": {
      "text/plain": [
       "{'title': 'black excellence in tech: panelist spotlight – wilmarie de la cruz mejia',\n",
       " 'link': 'https://codeup.com/codeup-news/codeup-best-bootcamps/',\n",
       " 'date_published': 'feb 16, 2023',\n",
       " 'content': '\\nblack excellence in tech: panelist spotlight – wilmarie de la cruz mejia\\n\\ncodeup is hosting a black excellence in tech panel in honor of black history month on february 22, 2023! to further celebrate, we’d like to spotlight each of our panelists leading up to the discussion to learn a bit about their respective experiences as black leaders in the tech industry!\\xa0\\xa0\\nmeet wilmarie!\\nwilmarie de\\xa0la cruz mejia is a current codeup student on the path to becoming a full-stack web developer at our dallas, tx campus.\\xa0\\nwilmarie is a veteran expanding her knowledge of programming languages and technologies on her journey with codeup.\\xa0\\nwe asked wilmarie to share more about her experience at codeup. she shares, “i was able to meet other people who were passionate about coding and be in a positive learning environment.”\\nwe hope you can join us on february 22nd to sit in on an insightful conversation with wilmarie and all of our panelists!\\n'}"
      ]
     },
     "execution_count": 68,
     "metadata": {},
     "output_type": "execute_result"
    }
   ],
   "source": [
    "lowercase_dict"
   ]
  },
  {
   "cell_type": "code",
   "execution_count": 88,
   "id": "4da7f72a-dc52-46ba-be85-e2f22cf4ac99",
   "metadata": {},
   "outputs": [],
   "source": [
    "def lowercase_func(data):\n",
    "    lowercase_list = []\n",
    "    for my_dict in data:\n",
    "        lowercase_dict = {k.lower(): v.lower() if isinstance(v, str) else v for k, v in my_dict.items()}\n",
    "        lowercase_list.append(lowercase_dict)\n",
    "\n",
    "    return lowercase_list\n"
   ]
  },
  {
   "cell_type": "code",
   "execution_count": 90,
   "id": "8109720d-20f4-439c-aa69-114808128ada",
   "metadata": {},
   "outputs": [],
   "source": [
    "blog_data = lowercase_func(blog_data)"
   ]
  },
  {
   "cell_type": "code",
   "execution_count": 94,
   "id": "83c0b29e-124e-4d5f-99a5-89570be6100e",
   "metadata": {},
   "outputs": [],
   "source": [
    "def remove_accented_char(data): \n",
    "    from unidecode import unidecode\n",
    "\n",
    "    clean_list = []\n",
    "    for my_dict in data:\n",
    "        clean_dict = {k: unidecode(v) if isinstance(v, str) else v for k, v in my_dict.items()}\n",
    "        clean_list.append(clean_dict)\n",
    "\n",
    "    return clean_list\n"
   ]
  },
  {
   "cell_type": "code",
   "execution_count": 95,
   "id": "7696a77c-ede7-4b5d-b7e5-a47493ef807e",
   "metadata": {},
   "outputs": [
    {
     "data": {
      "text/plain": [
       "[{'title': 'black excellence in tech: panelist spotlight - wilmarie de la cruz mejia',\n",
       "  'link': 'https://codeup.com/codeup-news/codeup-best-bootcamps/',\n",
       "  'date_published': 'feb 16, 2023',\n",
       "  'content': '\\nblack excellence in tech: panelist spotlight - wilmarie de la cruz mejia\\n\\ncodeup is hosting a black excellence in tech panel in honor of black history month on february 22, 2023! to further celebrate, we\\'d like to spotlight each of our panelists leading up to the discussion to learn a bit about their respective experiences as black leaders in the tech industry!  \\nmeet wilmarie!\\nwilmarie de la cruz mejia is a current codeup student on the path to becoming a full-stack web developer at our dallas, tx campus. \\nwilmarie is a veteran expanding her knowledge of programming languages and technologies on her journey with codeup. \\nwe asked wilmarie to share more about her experience at codeup. she shares, \"i was able to meet other people who were passionate about coding and be in a positive learning environment.\"\\nwe hope you can join us on february 22nd to sit in on an insightful conversation with wilmarie and all of our panelists!\\n'},\n",
       " {'title': 'black excellence in tech: panelist spotlight - stephanie jones',\n",
       "  'link': 'https://codeup.com/codeup-news/codeup-best-bootcamps/',\n",
       "  'date_published': 'feb 13, 2023',\n",
       "  'content': '\\nblack excellence in tech: panelist spotlight - stephanie jones\\ncodeup is hosting our second black excellence in tech panel in honor of black history month on february 22, 2023! to further celebrate, we\\'d like to spotlight each of our panelists leading up to the discussion to learn a bit about their respective experiences as black leaders in the tech industry!  \\nmeet stephanie!\\n\\nstephanie jones is an alumna of codeup\\'s data science program (march 2022) and currently works as a business intelligence developer for victory capital, a global investment management firm based in san antonio, tx. \\nstephanie is passionate about visual storytelling and, as a late \"tech bloomer,\" is also an advocate for equitable access and educational opportunities in technology for underserved communities.\\nwe asked stephanie to share more about her experience at codeup. she shares, \"i have always been a creative and codeup opened up a world of possibilities by exposing me to advanced technical concepts and career opportunities.\" stephanie also speaks to the community of support in the program and beyond.  \"the network and support from instructors, mentors, and peers began during the application phase (which was intense), before the program even started, and has carried over even after completing the program and entering into the workforce.\"\\nwe hope you can join us on february 22nd to sit in on an insightful conversation with stephanie and all of our panelists!\\n'},\n",
       " {'title': 'black excellence in tech: panelist spotlight - james cooper',\n",
       "  'link': 'https://codeup.com/codeup-news/codeup-best-bootcamps/',\n",
       "  'date_published': 'feb 10, 2023',\n",
       "  'content': '\\nblack excellence in tech: panelist spotlight - james cooper\\ncodeup is hosting our second black excellence in tech panel in honor of black history month on february 22, 2023! to further celebrate, we\\'d like to spotlight each of our panelists leading up to the discussion to learn a bit about their respective experiences as black leaders in the tech industry! \\nmeet james!\\n\\njames cooper is the senior placement manager at codeup, and will also be the moderator for the black excellence in tech panel. james previously served as an athletic director in higher education and in that role his responsibilities included liaison for title ix. as title ix liaison, james oversaw complaints of discrimination and identifying and addressing any patterns or systemic problems that arose during the review of complaints. additionally, he spent two years assisting the department of justice in building college campuses\\' capacity to lessen violence against women, to administer justice for victims of domestic violence, dating violence, sexual assault, and stalking, and to increase services for those victims.\\nat codeup, james helps students identify career opportunities and supply them with the necessary tools to ensure they are able to compete for those opportunities. we asked james about his experience at codeup, he shared, \"this is the first employer in my professional experiences that promotes true autonomy and community amongst its staff.\"\\njames believes in his ability to overcome many obstacles and challenges and utilizes his lens and social construct towards the human-centered approach to service delivery. he serves as an infinite example of thought provoking philosopher bridging gaps between academics, athletics and prioritizing the process of transitioning community assets and values for a sustainable legacy.\\nwe hope you can join us on february 22nd to sit in on an insightful conversation with james and all of our panelists!\\n'},\n",
       " {'title': 'black excellence in tech: panelist spotlight - jeanice freeman',\n",
       "  'link': 'https://codeup.com/codeup-news/codeup-best-bootcamps/',\n",
       "  'date_published': 'feb 6, 2023',\n",
       "  'content': '\\nblack excellence in tech: panelist spotlight - jeanice freeman\\ncodeup is hosting our second black excellence in tech panel in honor of black history month on february 22, 2023! to further celebrate, we\\'d like to spotlight each of our panelists leading up to the discussion to learn a bit about their respective experiences as black leaders in the tech industry!\\nmeet jeanice!\\njeanice freeman is the student experience specialist at codeup, where her role is to provide support, advocacy, inclusivity, growth, and resources for students. prior to codeup, she worked in higher education, k-12 education, community development, and human services providing support, resources, training, development, and growth opportunities. she holds a b.s and m.s degree and is currently working on her ed. d in executive leadership. she plans to continue doing what she loves as an educator and provide space and opportunities for adult learners to continue to grow.\\nwe asked jeanice about her experience with codeup. she shared, \"codeup has allowed me to do what i love and create spaces for others to thrive and grow. i am able to work with diverse populations and provide support and development opportunities for non-traditional students. codeup has also provided opportunities for my own growth and with that has become a special organization to be a part of.\"\\ndon\\'t forget to tune in on february 22nd to sit in on an insightful conversation.\\n'},\n",
       " {'title': 'coding bootcamp or self-learning? which is best for you?',\n",
       "  'link': 'https://codeup.com/codeup-news/codeup-best-bootcamps/',\n",
       "  'date_published': 'jan 20, 2023',\n",
       "  'content': \"\\nif you're interested in embarking on a career in tech, it is likely that you have taken a look into two learning paths: self-learning vs. coding bootcamps. but what are the differences?\\nself-learning\\nmany online institutions offer self-learning courses. this is becoming increasingly popular as students are becoming more aware of their individual learning styles, and value flexibility and self-paced programs.\\nadvantages of self-learning\\n\\nyou can form your instruction at times that best suit your needs and lifestyle\\nyou can purse your new path from the comfort of your home if you choose!\\nthere are many self-learning courses that offer flexible payment options\\n\\ndisadvantages of self-learning\\n\\nworking alone can sometimes lead to a lack of motivation, requiring a great deal of strictness to remain on track\\nthere are no peers or instructors physically present to study with or ask questions\\n\\ntraditional coding bootcamp\\ncoding bootcamps have a reputation for being the accelerated path to launching a career in tech. this tends to work best for students that thrive off of structured learning, with a support team to assist throughout the process.\\nadvantages of coding bootcamps\\n\\nbootcamps are typically instructor-led meaning you have access to industry experts throughout your program to help you fully understand the material\\nyou and your peers will more than likely need to complete a project together before the end of your course. this will aid in forming connections with the next group of individuals to enter the tech industry (which is great for networking!)\\nto employers, completing a program through a coding bootcamp looks phenomenal! this demonstrates your ability to commit to something complex and learn quickly.\\n\\ndisadvantages of coding bootcamps\\n\\nevery piece of information covered in a coding bootcamp's curriculum may not be imperative to your new role. a top goal of a bootcamp is to lay a good foundation for many possible careers. this means that if the curriculum covers pieces you may already know, or that do not exactly pertain to you, you will still need to be actively involved in the lessons.\\nif you are someone who prefers to spend a lot of time absorbing information, you may not be given the opportunity to do so, given that a bootcamp has a structured curriculum with time frames for each topic.\\n\\nboth options have their advantages and disadvantages, but selecting which path is the correct choice for you should be based on your learning style and life circumstances.\\ncodeup\\ncodeup is the first, and currently the only accredited* coding bootcamp in texas. our program offerings range from 15 to 20 weeks and include: full-stack web development, data science and cloud administration. these programs are open to individuals of all backgrounds and experience levels.\\nwhen you decide to transition careers with codeup, our commitment to you goes beyond class-time. you will have direct access to a support system including:\\n\\nadmissions and financial aid managers\\na student experience team\\ninstructors who are subject matter experts\\na placement team looking to help you secure a job in-field once you graduate\\n\\nwe also offer a tuition refund guarantee! we will refund your paid tuition back to you if you do not find a job in-field within six months of completing a codeup program.\\nif this sounds like a good fit for you, use any of the following options to launch your career in tech!\\n\\nattend a 100% free instructor-led workshop to try your hand at coding!\\nrequest more information on one or all of our programs\\nget started now by filling out a quick form\\nschedule time with an admissions manager to talk through the process\\n\\n*codeup is accredited for postsecondary, non-degree granting, career and technology programs by the middle states commission on secondary schools of the middle states association of colleges and schools, 3624 market street, philadelphia, pa 19104, (267) 284-5000\\n\"},\n",
       " {'title': 'codeup among top 58 best coding bootcamps of 2023',\n",
       "  'link': 'https://codeup.com/codeup-news/codeup-best-bootcamps/',\n",
       "  'date_published': 'jan 12, 2023',\n",
       "  'content': \"\\ncodeup is pleased to announce we have been ranked among the 58 best coding bootcamps of 2023 by course report!\\ncourse report is a platform that has become essential in researching coding bootcamps over the last 10 years. every year, course report shares a list of coding bootcamps worldwide that meet a high standard in their educational offerings. the following were factors in the decision-making process:\\n\\nalumni and student reviews\\ntransparency around career outcomes\\nsalary-based financing options\\nschool's operation time\\nnumber of campuses\\nselectivity in the application process\\nvetted lending partnerships\\nthe caliber of career support\\ncommitment to diversity\\n\\ncodeup was highlighted for being an established school with transparent outcomes.\\ncourse report is primarily utilized by previous and potential students seeking information on coding bootcamps. our outstanding alumni have shared their genuine experiences upon completing codeup programs; anyone seeking information on codeup can access their reviews!\\na huge thank you goes to our alumni for sharing your journeys, the codeup staff for continuing to deliver excellence, and course report for recognizing our school in this year's rankings.\\n\\n\"}]"
      ]
     },
     "execution_count": 95,
     "metadata": {},
     "output_type": "execute_result"
    }
   ],
   "source": [
    "remove_accented_char(blog_data)"
   ]
  },
  {
   "cell_type": "code",
   "execution_count": 101,
   "id": "ff107581-a965-482f-a027-a9e98c586c82",
   "metadata": {},
   "outputs": [],
   "source": [
    "def remove_spec_char(data):\n",
    "    import re\n",
    "    clean_list = []\n",
    "    for my_dict in data:\n",
    "        clean_dict = {k: re.sub(r'[^A-Za-z0-9 ]+', '', v) if isinstance(v, str) else v for k, v in my_dict.items()}\n",
    "        clean_list.append(clean_dict)\n",
    "\n",
    "    return clean_list \n",
    "\n"
   ]
  },
  {
   "cell_type": "code",
   "execution_count": 102,
   "id": "7d46b265-a3bc-46a3-ba40-a7bd8711d12b",
   "metadata": {},
   "outputs": [
    {
     "data": {
      "text/plain": [
       "[{'title': 'black excellence in tech panelist spotlight  wilmarie de la cruz mejia',\n",
       "  'link': 'httpscodeupcomcodeupnewscodeupbestbootcamps',\n",
       "  'date_published': 'feb 16 2023',\n",
       "  'content': 'black excellence in tech panelist spotlight  wilmarie de la cruz mejiacodeup is hosting a black excellence in tech panel in honor of black history month on february 22 2023 to further celebrate wed like to spotlight each of our panelists leading up to the discussion to learn a bit about their respective experiences as black leaders in the tech industrymeet wilmariewilmarie dela cruz mejia is a current codeup student on the path to becoming a fullstack web developer at our dallas tx campuswilmarie is a veteran expanding her knowledge of programming languages and technologies on her journey with codeupwe asked wilmarie to share more about her experience at codeup she shares i was able to meet other people who were passionate about coding and be in a positive learning environmentwe hope you can join us on february 22nd to sit in on an insightful conversation with wilmarie and all of our panelists'},\n",
       " {'title': 'black excellence in tech panelist spotlight  stephanie jones',\n",
       "  'link': 'httpscodeupcomcodeupnewscodeupbestbootcamps',\n",
       "  'date_published': 'feb 13 2023',\n",
       "  'content': 'black excellence in tech panelist spotlight  stephanie jonescodeup is hosting our second black excellence in tech panel in honor of black history month on february 22 2023 to further celebrate wed like to spotlight each of our panelists leading up to the discussion to learn a bit about their respective experiences as black leaders in the tech industrymeet stephaniestephanie jones is an alumna of codeups data science program march 2022 and currently works as a business intelligence developer for victory capital a global investment management firm based in san antonio txstephanie is passionate about visual storytelling and as a late tech bloomer is also an advocate for equitable access and educational opportunities in technology for underserved communitieswe asked stephanie to share more about her experience at codeup she shares i have always been a creative and codeup opened up a world of possibilities by exposing me to advanced technical concepts and career opportunities stephanie also speaks to the community of support in the program and beyond the network and support from instructors mentors and peers began during the application phase which was intense before the program even started and has carried over even after completing the program and entering into the workforcewe hope you can join us on february 22nd to sit in on an insightful conversation with stephanie and all of our panelists'},\n",
       " {'title': 'black excellence in tech panelist spotlight  james cooper',\n",
       "  'link': 'httpscodeupcomcodeupnewscodeupbestbootcamps',\n",
       "  'date_published': 'feb 10 2023',\n",
       "  'content': 'black excellence in tech panelist spotlight  james coopercodeup is hosting our second black excellence in tech panel in honor of black history month on february 22 2023 to further celebrate wed like to spotlight each of our panelists leading up to the discussion to learn a bit about their respective experiences as black leaders in the tech industry meet jamesjames cooper is the senior placement manager at codeup and will also be the moderator for the black excellence in tech panel james previously served as an athletic director in higher education and in that role his responsibilities included liaison for title ix as title ix liaison james oversaw complaints of discrimination and identifying and addressing any patterns or systemic problems that arose during the review of complaints additionally he spent two years assisting the department of justice in building college campuses capacity to lessen violence against women to administer justice for victims of domestic violence dating violence sexual assault and stalking and to increase services for those victimsat codeup james helps students identify career opportunities and supply them with the necessary tools to ensure they are able to compete for those opportunities we asked james about his experience at codeup he shared this is the first employer in my professional experiences that promotes true autonomy and community amongst its staffjames believes in his ability to overcome many obstacles and challenges and utilizes his lens and social construct towards the humancentered approach to service delivery he serves as an infinite example of thought provoking philosopher bridging gaps between academics athletics and prioritizing the process of transitioning community assets and values for a sustainable legacywe hope you can join us on february 22nd to sit in on an insightful conversation with james and all of our panelists'},\n",
       " {'title': 'black excellence in tech panelist spotlight  jeanice freeman',\n",
       "  'link': 'httpscodeupcomcodeupnewscodeupbestbootcamps',\n",
       "  'date_published': 'feb 6 2023',\n",
       "  'content': 'black excellence in tech panelist spotlight  jeanice freemancodeup is hosting our second black excellence in tech panel in honor of black history month on february 22 2023 to further celebrate wed like to spotlight each of our panelists leading up to the discussion to learn a bit about their respective experiences as black leaders in the tech industrymeet jeanicejeanice freeman is the student experience specialist at codeup where her role is to provide support advocacy inclusivity growth and resources for students prior to codeup she worked in higher education k12 education community development and human services providing support resources training development and growth opportunities she holds a bs and ms degree and is currently working on her ed d in executive leadership she plans to continue doing what she loves as an educator and provide space and opportunities for adult learners to continue to growwe asked jeanice about her experience with codeup she shared codeup has allowed me to do what i love and create spaces for others to thrive and grow i am able to work with diverse populations and provide support and development opportunities for nontraditional students codeup has also provided opportunities for my own growth and with that has become a special organization to be a part ofdont forget to tune in on february 22nd to sit in on an insightful conversation'},\n",
       " {'title': 'coding bootcamp or selflearning which is best for you',\n",
       "  'link': 'httpscodeupcomcodeupnewscodeupbestbootcamps',\n",
       "  'date_published': 'jan 20 2023',\n",
       "  'content': 'if youre interested in embarking on a career in tech it is likely that you have taken a look into two learning paths selflearning vs coding bootcamps but what are the differencesselflearningmany online institutions offer selflearning courses this is becoming increasingly popular as students are becoming more aware of their individual learning styles and value flexibility and selfpaced programsadvantages of selflearningyou can form your instruction at times that best suit your needs and lifestyleyou can purse your new path from the comfort of your home if you choosethere are many selflearning courses that offer flexible payment optionsdisadvantages of selflearningworking alone can sometimes lead to a lack of motivation requiring a great deal of strictness to remain on trackthere are no peers or instructors physically present to study with or ask questionstraditional coding bootcampcoding bootcamps have a reputation for being the accelerated path to launching a career in tech this tends to work best for students that thrive off of structured learning with a support team to assist throughout the processadvantages of coding bootcampsbootcamps are typically instructorled meaning you have access to industry experts throughout your program to help you fully understand the materialyou and your peers will more than likely need to complete a project together before the end of your course this will aid in forming connections with the next group of individuals to enter the tech industry which is great for networkingto employers completing a program through a coding bootcamp looks phenomenal this demonstrates your ability to commit to something complex and learn quicklydisadvantages of coding bootcampsevery piece of information covered in a coding bootcamps curriculum may not be imperative to your new role a top goal of a bootcamp is to lay a good foundation for many possible careers this means that if the curriculum covers pieces you may already know or that do not exactly pertain to you you will still need to be actively involved in the lessonsif you are someone who prefers to spend a lot of time absorbing information you may not be given the opportunity to do so given that a bootcamp has a structured curriculum with time frames for each topicboth options have their advantages and disadvantages but selecting which path is the correct choice for you should be based on your learning style and life circumstancescodeupcodeup is the first and currently the only accredited coding bootcamp in texas our program offerings range from 15 to 20 weeks and include fullstack web development data science and cloud administration these programs are open to individuals of all backgrounds and experience levelswhen you decide to transition careers with codeup our commitment to you goes beyond classtime you will have direct access to a support system includingadmissions and financial aid managersa student experience teaminstructors who are subject matter expertsa placement team looking to help you secure a job infield once you graduatewe also offer a tuition refund guarantee we will refund your paid tuition back to you if you do not find a job infield within six months of completing a codeup programif this sounds like a good fit for you use any of the following options to launch your career in techattend a 100 free instructorled workshop to try your hand at codingrequest more information on one or all of our programsget started now by filling out a quick formschedule time with an admissions manager to talk through the processcodeup is accredited for postsecondary nondegree granting career and technology programs by the middle states commission on secondary schools of the middle states association of colleges and schools 3624 market street philadelphia pa 19104 267 2845000'},\n",
       " {'title': 'codeup among top 58 best coding bootcamps of 2023',\n",
       "  'link': 'httpscodeupcomcodeupnewscodeupbestbootcamps',\n",
       "  'date_published': 'jan 12 2023',\n",
       "  'content': 'codeup is pleased to announce we have been ranked among the 58 best coding bootcamps of 2023 by course reportcourse report is a platform that has become essential in researching coding bootcamps over the last 10 years every year course report shares a list of coding bootcamps worldwide that meet a high standard in their educational offerings the following were factors in the decisionmaking processalumni and student reviewstransparency around career outcomessalarybased financing optionsschools operation timenumber of campusesselectivity in the application processvetted lending partnershipsthe caliber of career supportcommitment to diversitycodeup was highlighted for being an established school with transparent outcomescourse report is primarily utilized by previous and potential students seeking information on coding bootcamps our outstanding alumni have shared their genuine experiences upon completing codeup programs anyone seeking information on codeup can access their reviewsa huge thank you goes to our alumni for sharing your journeys the codeup staff for continuing to deliver excellence and course report for recognizing our school in this years rankings'}]"
      ]
     },
     "execution_count": 102,
     "metadata": {},
     "output_type": "execute_result"
    }
   ],
   "source": [
    "remove_spec_char(blog_data)"
   ]
  },
  {
   "cell_type": "code",
   "execution_count": null,
   "id": "8490356d-82d2-44ae-ba83-136f9579dbed",
   "metadata": {},
   "outputs": [],
   "source": []
  }
 ],
 "metadata": {
  "kernelspec": {
   "display_name": "Python 3 (ipykernel)",
   "language": "python",
   "name": "python3"
  },
  "language_info": {
   "codemirror_mode": {
    "name": "ipython",
    "version": 3
   },
   "file_extension": ".py",
   "mimetype": "text/x-python",
   "name": "python",
   "nbconvert_exporter": "python",
   "pygments_lexer": "ipython3",
   "version": "3.9.13"
  }
 },
 "nbformat": 4,
 "nbformat_minor": 5
}
